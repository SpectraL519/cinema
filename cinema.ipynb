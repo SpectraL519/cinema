{
 "cells": [
  {
   "cell_type": "markdown",
   "metadata": {},
   "source": [
    "# Imports"
   ]
  },
  {
   "cell_type": "code",
   "execution_count": null,
   "metadata": {},
   "outputs": [],
   "source": [
    "import yaml\n",
    "\n",
    "import cinema_utils as utils"
   ]
  },
  {
   "cell_type": "markdown",
   "metadata": {},
   "source": [
    "# Reading the database config file"
   ]
  },
  {
   "cell_type": "code",
   "execution_count": null,
   "metadata": {},
   "outputs": [],
   "source": [
    "with open(\"db_config.yaml\", 'r') as file:\n",
    "    try:\n",
    "        print(\"Reading the db_config.yaml file...\")\n",
    "        config = yaml.safe_load(file)\n",
    "        print(\"Success!\")\n",
    "    except yaml.YAMLError as e:\n",
    "        print(f\"Error: Reading database config: {e}\")"
   ]
  },
  {
   "cell_type": "markdown",
   "metadata": {},
   "source": [
    "# Connecting to the database as an initial user"
   ]
  },
  {
   "cell_type": "code",
   "execution_count": null,
   "metadata": {},
   "outputs": [],
   "source": [
    "user = \"init\"\n",
    "credentials = utils.Credentials(username=user, password=config['credentials'][user])\n",
    "print(credentials)"
   ]
  },
  {
   "cell_type": "code",
   "execution_count": null,
   "metadata": {},
   "outputs": [],
   "source": [
    "connector = utils.DBConnector(credentials=credentials,\n",
    "                              host=config['host'],\n",
    "                              port=config['port'],\n",
    "                              database=config['database'])\n",
    "\n",
    "if connector.open():\n",
    "    print(connector.connection)"
   ]
  },
  {
   "cell_type": "markdown",
   "metadata": {},
   "source": [
    "# Logging in to the system"
   ]
  },
  {
   "cell_type": "code",
   "execution_count": null,
   "metadata": {},
   "outputs": [],
   "source": [
    "# cmd = utils.CommandLine()\n",
    "# cred = cmd.getCredentials()\n",
    "# print(cred)"
   ]
  },
  {
   "cell_type": "code",
   "execution_count": null,
   "metadata": {},
   "outputs": [],
   "source": [
    "result = connector.testSelect()\n",
    "result"
   ]
  },
  {
   "cell_type": "code",
   "execution_count": null,
   "metadata": {},
   "outputs": [],
   "source": []
  }
 ],
 "metadata": {
  "kernelspec": {
   "display_name": "Python 3.9.7 ('cinema')",
   "language": "python",
   "name": "python3"
  },
  "language_info": {
   "codemirror_mode": {
    "name": "ipython",
    "version": 3
   },
   "file_extension": ".py",
   "mimetype": "text/x-python",
   "name": "python",
   "nbconvert_exporter": "python",
   "pygments_lexer": "ipython3",
   "version": "3.9.7"
  },
  "orig_nbformat": 4,
  "vscode": {
   "interpreter": {
    "hash": "ca93d9551c2bb0b0c51d9781890fa62534c5ad411dd447e8af0040c43fb3c73a"
   }
  }
 },
 "nbformat": 4,
 "nbformat_minor": 2
}
